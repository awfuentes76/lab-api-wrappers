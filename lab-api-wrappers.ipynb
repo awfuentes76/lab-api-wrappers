{
 "cells": [
  {
   "cell_type": "code",
   "execution_count": null,
   "metadata": {},
   "outputs": [],
   "source": [
    "import requests\n",
    "import keyring\n",
    "\n",
    "\n",
    "def create_token(): \n",
    "    global access_token\n",
    "    url = \"https://accounts.spotify.com/api/token\"\n",
    "\n",
    "    payload = f'grant_type=client_credentials&client_id={keyring.get_password(\"Spotify\", \"client_id\")}&client_secret={keyring.get_password(\"Spotify\", \"client_secret\")}'\n",
    "    headers = {\n",
    "        'Content-Type': 'application/x-www-form-urlencoded',\n",
    "        'Cookie': '__Host-device_id=AQD5YwRrHqtWCnT9TIwGJ0EN2j2QZ0CU__xVNmGEdFaBVyn3GGwnDSRXxfdsqLFvWgbemBlHtvqE2JJJfhg5880FF3ZwqPZI83k; sp_tr=false'\n",
    "    }\n",
    "\n",
    "    response = requests.request(\"POST\", url, headers=headers, data=payload, timeout=200)\n",
    "    access_token = response.json()['access_token']\n",
    "\n",
    "create_token()"
   ]
  },
  {
   "cell_type": "code",
   "execution_count": null,
   "metadata": {},
   "outputs": [],
   "source": [
    "import requests\n",
    "\n",
    "url = \"https://api.spotify.com/v1/playlists/3cEYpjA9oz9GiPac4AsH4n\"\n",
    "\n",
    "payload = {}\n",
    "headers = {\n",
    "  'Authorization': f'Bearer {access_token}'\n",
    "}\n",
    "\n",
    "response = requests.request(\"GET\", url, headers=headers, data=payload, timeout=200)\n",
    "\n",
    "print(response.text)\n"
   ]
  },
  {
   "cell_type": "code",
   "execution_count": null,
   "metadata": {},
   "outputs": [],
   "source": [
    "import spotipy\n",
    "from spotipy.oauth2 import SpotifyOAuth\n",
    "\n",
    "from spotipy.oauth2 import SpotifyClientCredentials"
   ]
  },
  {
   "cell_type": "code",
   "execution_count": null,
   "metadata": {},
   "outputs": [],
   "source": [
    "# Autenticación con la API de Spotify\n",
    "client_credentials_manager = SpotifyClientCredentials(client_id='bf6ceac0ca1548b994512ab886eff7ac', client_secret='5570675867f94eef84f6504ac61b5dde')\n",
    "sp = spotipy.Spotify(client_credentials_manager=client_credentials_manager)"
   ]
  },
  {
   "cell_type": "code",
   "execution_count": null,
   "metadata": {},
   "outputs": [],
   "source": [
    "\n",
    "\n",
    "# Lista de 10 artistas (puedes agregar los artistas que prefieras)\n",
    "my_10_artists = [\n",
    "    'Mumford And Sons', 'Nirvana', 'Royel Otis', 'Creedence Clearwater Revival', 'The Blaze', 'Bob Dylan', 'The Doors', 'Fleetwood Mac', 'Phill Collins', 'The War on Drugs'\n",
    "]\n",
    "\n",
    "# Imprime la lista para verificar\n",
    "print(my_10_artists)"
   ]
  },
  {
   "cell_type": "code",
   "execution_count": null,
   "metadata": {},
   "outputs": [],
   "source": [
    "# Función para obtener el ID de un artista por su nombre\n",
    "def get_artist_id(artist_name):\n",
    "    results = sp.search(q='artist:' + artist_name, type='artist')\n",
    "    items = results['artists']['items']\n",
    "    if len(items) > 0:\n",
    "        return items[0]['id']\n",
    "    else:\n",
    "        return None"
   ]
  },
  {
   "cell_type": "code",
   "execution_count": null,
   "metadata": {},
   "outputs": [],
   "source": [
    "# Función para obtener las primeras 50 apariciones de un artista\n",
    "def get_first_50_appearances(artist_name):\n",
    "    artist_id = get_artist_id(artist_name)\n",
    "    if artist_id is None:\n",
    "        return []\n",
    "    \n",
    "    results = sp.artist_top_tracks(artist_id, country='US')\n",
    "    tracks = results['tracks']\n",
    "    appearances = []\n",
    "\n",
    "    for track in tracks[:50]:  # Limit to 50 tracks\n",
    "        appearances.append({\n",
    "            'name': track['name'],\n",
    "            'album': track['album']['name'],\n",
    "            'release_date': track['album']['release_date']\n",
    "        })\n",
    "    return appearances"
   ]
  },
  {
   "cell_type": "code",
   "execution_count": null,
   "metadata": {},
   "outputs": [],
   "source": [
    "# Función principal que toma una lista de nombres de artistas y devuelve un diccionario con sus primeras 50 apariciones\n",
    "def get_artists_appearances(artists_list):\n",
    "    appearances_dict = {}\n",
    "    for artist in artists_list:\n",
    "        appearances_dict[artist] = get_first_50_appearances(artist)\n",
    "    return appearances_dict\n",
    "\n",
    "# Obtener las primeras 50 apariciones de los 20 artistas\n",
    "my_10_artists_appearances = get_artists_appearances(my_10_artists)\n",
    "\n",
    "# Imprimir los resultados para verificar\n",
    "for artist, appearances in my_10_artists_appearances.items():\n",
    "    print(f\"Artista: {artist}\")\n",
    "    for appearance in appearances:\n",
    "        print(f\"  - Canción: {appearance['name']}, Álbum: {appearance['album']}, Fecha de lanzamiento: {appearance['release_date']}\")"
   ]
  },
  {
   "cell_type": "code",
   "execution_count": null,
   "metadata": {},
   "outputs": [],
   "source": [
    "def get_playlist_tracks(playlist_id):\n",
    "    \"\"\"Obtiene todas las canciones de una lista de reproducción dado su ID.\"\"\"\n",
    "    tracks = []\n",
    "    results = sp.playlist_tracks(playlist_id)\n",
    "    tracks.extend(results['items'])\n",
    "    while results['next']:\n",
    "        results = sp.next(results)\n",
    "        tracks.extend(results['items'])\n",
    "    return tracks\n",
    "    "
   ]
  },
  {
   "cell_type": "code",
   "execution_count": null,
   "metadata": {},
   "outputs": [],
   "source": [
    "def get_artist_albums(artist_id):\n",
    "    \"\"\"Obtiene todos los álbumes de un artista dado su ID.\"\"\"\n",
    "    albums = []\n",
    "    results = sp.artist_albums(artist_id, album_type='album')\n",
    "    albums.extend(results['items'])\n",
    "    while results['next']:\n",
    "        results = sp.next(results)\n",
    "        albums.extend(results['items'])\n",
    "    return albums\n",
    "\n",
    "def get_album_tracks(album_id):\n",
    "    \"\"\"Obtiene todas las canciones de un álbum dado su ID.\"\"\"\n",
    "    tracks = []\n",
    "    results = sp.album_tracks(album_id)\n",
    "    tracks.extend(results['items'])\n",
    "    while results['next']:\n",
    "        results = sp.next(results)\n",
    "        tracks.extend(results['items'])\n",
    "    return tracks"
   ]
  },
  {
   "cell_type": "code",
   "execution_count": null,
   "metadata": {},
   "outputs": [],
   "source": [
    "def get_audio_features(track_ids):\n",
    "    \"\"\"Obtiene las características de audio de una lista de IDs de canciones.\"\"\"\n",
    "    features = []\n",
    "    # Spotify API has a limit of 100 ids per request\n",
    "    for i in range(0, len(track_ids), 100):\n",
    "        audio_features = sp.audio_features(tracks=track_ids[i:i+100])\n",
    "        features.extend(audio_features)\n",
    "    return features"
   ]
  },
  {
   "cell_type": "code",
   "execution_count": null,
   "metadata": {},
   "outputs": [],
   "source": [
    "def collect_songs_and_features_from_playlist(playlist_id):\n",
    "    \"\"\"Recopila canciones y sus características de audio desde una lista de reproducción.\"\"\"\n",
    "    track_ids = []\n",
    "    tracks = get_playlist_tracks(playlist_id)\n",
    "    \n",
    "    for item in tracks:\n",
    "        track = item['track']\n",
    "        if track:\n",
    "            track_ids.append(track['id'])\n",
    "    \n",
    "    features = get_audio_features(track_ids)\n",
    "    \n",
    "    songs_data = []\n",
    "    for i, track in enumerate(tracks):\n",
    "        if track['track']:\n",
    "            song_info = {\n",
    "                'name': track['track']['name'],\n",
    "                'artist': [artist['name'] for artist in track['track']['artists']],\n",
    "                'id': track['track']['id'],\n",
    "                'features': features[i]\n",
    "            }\n",
    "            songs_data.append(song_info)\n",
    "    \n",
    "    return songs_data\n",
    "\n",
    "\n",
    "def collect_songs_from_artists_in_playlist(playlist_id):\n",
    "    \"\"\"Recopila canciones de artistas presentes en una lista de reproducción.\"\"\"\n",
    "    tracks = get_playlist_tracks(playlist_id)\n",
    "    artist_ids = {artist['id'] for item in tracks for artist in item['track']['artists'] if item['track']}\n",
    "    \n",
    "    all_tracks = []\n",
    "    for artist_id in artist_ids:\n",
    "        albums = get_artist_albums(artist_id)\n",
    "        for album in albums:\n",
    "            album_tracks = get_album_tracks(album['id'])\n",
    "            all_tracks.extend(album_tracks)\n",
    "    \n",
    "    track_ids = [track['id'] for track in all_tracks if track]\n",
    "    features = get_audio_features(track_ids)\n",
    "    \n",
    "    songs_data = []\n",
    "    for i, track in enumerate(all_tracks):\n",
    "        if track:\n",
    "            song_info = {\n",
    "                'name': track['name'],\n",
    "                'artist': [artist['name'] for artist in track['artists']],\n",
    "                'id': track['id'],\n",
    "                'features': features[i]\n",
    "            }\n",
    "            songs_data.append(song_info)\n",
    "    \n",
    "    return songs_data"
   ]
  },
  {
   "cell_type": "code",
   "execution_count": null,
   "metadata": {},
   "outputs": [],
   "source": [
    "playlist_id = '37i9dQZF1E8KX8LprsFuoI'  # ID de la lista \"Today's Top Hits\" \n",
    "\n",
    "# Recopilar canciones y características de la lista de reproducción\n",
    "songs_data_from_playlist = collect_songs_and_features_from_playlist(playlist_id)\n",
    "\n",
    "# Recopilar canciones y características de los artistas presentes en la lista de reproducción\n",
    "songs_data_from_artists = collect_songs_from_artists_in_playlist(playlist_id)\n",
    "\n",
    "# Combinamos los datos de ambas recopilaciones\n",
    "all_songs_data = songs_data_from_playlist + songs_data_from_artists\n",
    "\n",
    "# Imprimir el número total de canciones recopiladas\n",
    "print(f\"Total de canciones recopiladas: {len(all_songs_data)}\")\n",
    "\n",
    "print(all_songs_data)\n",
    "\n"
   ]
  },
  {
   "cell_type": "code",
   "execution_count": null,
   "metadata": {},
   "outputs": [],
   "source": [
    "import pandas as pd"
   ]
  },
  {
   "cell_type": "code",
   "execution_count": null,
   "metadata": {},
   "outputs": [],
   "source": [
    "playlist_df=pd.DataFrame(all_songs_data)"
   ]
  },
  {
   "cell_type": "code",
   "execution_count": null,
   "metadata": {},
   "outputs": [],
   "source": [
    "playlist_df"
   ]
  }
 ],
 "metadata": {
  "kernelspec": {
   "display_name": "Python 3",
   "language": "python",
   "name": "python3"
  },
  "language_info": {
   "codemirror_mode": {
    "name": "ipython",
    "version": 3
   },
   "file_extension": ".py",
   "mimetype": "text/x-python",
   "name": "python",
   "nbconvert_exporter": "python",
   "pygments_lexer": "ipython3",
   "version": "3.12.2"
  }
 },
 "nbformat": 4,
 "nbformat_minor": 2
}
